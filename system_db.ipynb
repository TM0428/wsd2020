{
  "nbformat": 4,
  "nbformat_minor": 0,
  "metadata": {
    "accelerator": "TPU",
    "colab": {
      "name": "system_db.ipynb",
      "provenance": [],
      "collapsed_sections": [],
      "include_colab_link": true
    },
    "kernelspec": {
      "display_name": "Python 3",
      "name": "python3"
    }
  },
  "cells": [
    {
      "cell_type": "markdown",
      "metadata": {
        "id": "view-in-github",
        "colab_type": "text"
      },
      "source": [
        "<a href=\"https://colab.research.google.com/github/TM0428/wsd2020/blob/main/system_db.ipynb\" target=\"_parent\"><img src=\"https://colab.research.google.com/assets/colab-badge.svg\" alt=\"Open In Colab\"/></a>"
      ]
    },
    {
      "cell_type": "markdown",
      "metadata": {
        "id": "px3DkvM326sM"
      },
      "source": [
        "# 必要パッケージのインストール"
      ]
    },
    {
      "cell_type": "code",
      "metadata": {
        "colab": {
          "base_uri": "https://localhost:8080/"
        },
        "id": "5Zx8eh2EjrKo",
        "outputId": "651d02ab-c7a6-402d-c0ac-012c055a88c5"
      },
      "source": [
        "!pip install -U beautifulsoup4"
      ],
      "execution_count": 1,
      "outputs": [
        {
          "output_type": "stream",
          "text": [
            "Requirement already up-to-date: beautifulsoup4 in /usr/local/lib/python3.6/dist-packages (4.9.3)\n",
            "Requirement already satisfied, skipping upgrade: soupsieve>1.2; python_version >= \"3.0\" in /usr/local/lib/python3.6/dist-packages (from beautifulsoup4) (2.0.1)\n"
          ],
          "name": "stdout"
        }
      ]
    },
    {
      "cell_type": "code",
      "metadata": {
        "colab": {
          "base_uri": "https://localhost:8080/"
        },
        "id": "T0XR_jTSqORx",
        "outputId": "e46474b4-5627-44b0-929a-295ef447d767"
      },
      "source": [
        "# 形態素分析ライブラリーMeCab と 辞書(mecab-ipadic-NEologd)のインストール \n",
        "!apt-get -q -y install sudo file mecab libmecab-dev mecab-ipadic-utf8 git curl python-mecab > /dev/null\n",
        "!git clone --depth 1 https://github.com/neologd/mecab-ipadic-neologd.git > /dev/null \n",
        "!echo yes | mecab-ipadic-neologd/bin/install-mecab-ipadic-neologd -n > /dev/null 2>&1\n",
        "!pip install mecab-python3 > /dev/null\n",
        "\n",
        "# シンボリックリンクによるエラー回避\n",
        "!ln -s /etc/mecabrc /usr/local/etc/mecabrc"
      ],
      "execution_count": 4,
      "outputs": [
        {
          "output_type": "stream",
          "text": [
            "Cloning into 'mecab-ipadic-neologd'...\n",
            "remote: Enumerating objects: 75, done.\u001b[K\n",
            "remote: Counting objects: 100% (75/75), done.\u001b[K\n",
            "remote: Compressing objects: 100% (74/74), done.\u001b[K\n",
            "remote: Total 75 (delta 5), reused 54 (delta 0), pack-reused 0\u001b[K\n",
            "Unpacking objects: 100% (75/75), done.\n"
          ],
          "name": "stdout"
        }
      ]
    },
    {
      "cell_type": "code",
      "metadata": {
        "colab": {
          "base_uri": "https://localhost:8080/"
        },
        "id": "vGJGlDcO305O",
        "outputId": "d843ace8-9a56-486e-ad96-a3cda5328972"
      },
      "source": [
        "!pip install gensim"
      ],
      "execution_count": 3,
      "outputs": [
        {
          "output_type": "stream",
          "text": [
            "Requirement already satisfied: gensim in /usr/local/lib/python3.6/dist-packages (3.6.0)\n",
            "Requirement already satisfied: smart-open>=1.2.1 in /usr/local/lib/python3.6/dist-packages (from gensim) (3.0.0)\n",
            "Requirement already satisfied: six>=1.5.0 in /usr/local/lib/python3.6/dist-packages (from gensim) (1.15.0)\n",
            "Requirement already satisfied: numpy>=1.11.3 in /usr/local/lib/python3.6/dist-packages (from gensim) (1.18.5)\n",
            "Requirement already satisfied: scipy>=0.18.1 in /usr/local/lib/python3.6/dist-packages (from gensim) (1.4.1)\n",
            "Requirement already satisfied: requests in /usr/local/lib/python3.6/dist-packages (from smart-open>=1.2.1->gensim) (2.23.0)\n",
            "Requirement already satisfied: urllib3!=1.25.0,!=1.25.1,<1.26,>=1.21.1 in /usr/local/lib/python3.6/dist-packages (from requests->smart-open>=1.2.1->gensim) (1.24.3)\n",
            "Requirement already satisfied: chardet<4,>=3.0.2 in /usr/local/lib/python3.6/dist-packages (from requests->smart-open>=1.2.1->gensim) (3.0.4)\n",
            "Requirement already satisfied: idna<3,>=2.5 in /usr/local/lib/python3.6/dist-packages (from requests->smart-open>=1.2.1->gensim) (2.10)\n",
            "Requirement already satisfied: certifi>=2017.4.17 in /usr/local/lib/python3.6/dist-packages (from requests->smart-open>=1.2.1->gensim) (2020.11.8)\n"
          ],
          "name": "stdout"
        }
      ]
    },
    {
      "cell_type": "code",
      "metadata": {
        "colab": {
          "base_uri": "https://localhost:8080/"
        },
        "id": "23pRMcRfWQ5p",
        "outputId": "cb1d3f95-997c-4696-b1ac-24b43fa2c896"
      },
      "source": [
        "# get html\n",
        "import requests\n",
        "import time\n",
        "from pathlib import Path\n",
        "\n",
        "def dirsName(name: str):\n",
        "    return f\"data/{name}/\"\n",
        "\n",
        "def fileName(name: str, id: str, extension: str=\"html\")->str:\n",
        "    return dirsName(name) + id.replace('/','_') + \".\" + extension #idの階層がローカルの階層にならないように\n",
        "\n",
        "def urlName(article_url: str, article_id: str)->str:\n",
        "    return article_url + article_id\n",
        "\n",
        "def main():\n",
        "    contents = [ # name, domain, article_urlは手動でせざるを得ないか、article_idを自動で取ってこられるようにしたい\n",
        "        {\n",
        "            \"name\": \"sejuku\",\n",
        "            \"domain\":\"https://www.sejuku.net/\",\n",
        "            \"article_url\":\"https://www.sejuku.net/blog/\",\n",
        "            \"article_id\": ['33294', '3766', '105909'] # 記事idは https://www.sejuku.net/blog/curriculums-python から適当にとってきた。実際は https://www.sejuku.net/blog/archive/page/* から適当に取ってくるといいかもしれない\n",
        "        },\n",
        "        {\n",
        "            \"name\": \"techacademy\",\n",
        "            \"domain\":\"https://techacademy.jp/\",\n",
        "            \"article_url\":\"https://techacademy.jp/magazine/\",\n",
        "            \"article_id\": ['15508', '15636', '15571'] # 記事idは https://techacademy.jp/magazine/category/programming/python/page/44 \n",
        "        },\n",
        "        {\n",
        "            \"name\": \"note_nkmk\",\n",
        "            \"domain\":\"https://note.nkmk.me/\",\n",
        "            \"article_url\":\"https://note.nkmk.me/\",\n",
        "            \"article_id\": ['python-union-find', 'python-numpy-sin-con-tan', 'python-list-2d-sort'] # 記事idは https://note.nkmk.me/ の新着記事・更新記事から適当にとってきた\n",
        "        },\n",
        "        # https://docs.python.org/ はスクレイピングだめらしい\n",
        "        \n",
        "        #{\n",
        "        #    \"name\": \"python_docs\",\n",
        "        #    \"domain\":\"https://docs.python.org/\",\n",
        "        #    \"article_url\":\"https://docs.python.org/ja/3/library\",\n",
        "        #    \"article_id\": ['pathlib', 'random', 're'] # 記事idは https://docs.python.org/ja/3/library/ から適当にとってきた\n",
        "        #},\n",
        "        {\n",
        "            \"name\": \"qiita\",\n",
        "            \"domain\": \"https://qiita.com/\",\n",
        "            \"article_url\": \"https://qiita.com/\", # https://qiita.com/をarticle_urlにするかhttps://qiita.com/user/をarticle_urlにするかは意見が分かれそう\n",
        "            \"article_id\": [\"kuroitu/items/f18acf87269f4267e8c1\", \"paleo_engineer/items/fdbde62df4394ddcaf11\", # 記事idは https://qiita.com/kai_kou/items/180a91fd88dbbbd746f6 から適当に取ってきた\n",
        "                            \"UTOG/items/c77c75a6aa61ee93fc6d\"] # idの階層がファイル名の階層になると階層構造が複雑になるので変換する必要がある\n",
        "        }\n",
        "        \n",
        "    ]\n",
        "    res = {}\n",
        "    for content in contents:\n",
        "        print(content)\n",
        "        res[content['domain']] = []\n",
        "        for id in content[\"article_id\"]:\n",
        "            filename = fileName(content[\"name\"], id) # ローカル保存用のファイル名\n",
        "            print(filename)\n",
        "            file_path = Path(filename)\n",
        "            print(file_path.exists())\n",
        "            html_code:str\n",
        "            if not file_path.exists(): # 1回getしたらローカルに保存して、複数回getしない\n",
        "                urlname = urlName(content['article_url'], id) # get用のurl名\n",
        "                print(urlname)\n",
        "                html = requests.get(urlname) # getしたhtml(bytes)\n",
        "                html_code = html.content.decode('utf-8') #getしたhtml(string)\n",
        "                dir_path = Path(dirsName(content['name']))\n",
        "                if not dir_path.exists():\n",
        "                    dir_path.mkdir(mode=0o777,parents=True,exist_ok=False) # ディレクトリを作成\n",
        "                with open(filename, mode='w', encoding='utf-8') as f:\n",
        "                    f.write(html_code) # ローカルに保存\n",
        "                time.sleep(3) # 適度なインターバル\n",
        "            with open(filename, mode='r', encoding='utf-8') as f:\n",
        "                html_code = f.read()\n",
        "                res[content['domain']].append(html_code)\n",
        "            \n",
        "    return res\n",
        "\n",
        "\n",
        "\n",
        "\n",
        "if __name__==\"__main__\":\n",
        "    a = main()\n",
        "    print(len(a['https://www.sejuku.net/'][0]))\n",
        "    print(len(a['https://techacademy.jp/'][1]))\n",
        "    print(len(a['https://note.nkmk.me/'][2]))\n",
        "    print(len(a['https://qiita.com/'][0]))\n",
        "    \n"
      ],
      "execution_count": 6,
      "outputs": [
        {
          "output_type": "stream",
          "text": [
            "{'name': 'sejuku', 'domain': 'https://www.sejuku.net/', 'article_url': 'https://www.sejuku.net/blog/', 'article_id': ['33294', '3766', '105909']}\n",
            "data/sejuku/33294.html\n",
            "True\n",
            "data/sejuku/3766.html\n",
            "True\n",
            "data/sejuku/105909.html\n",
            "True\n",
            "{'name': 'techacademy', 'domain': 'https://techacademy.jp/', 'article_url': 'https://techacademy.jp/magazine/', 'article_id': ['15508', '15636', '15571']}\n",
            "data/techacademy/15508.html\n",
            "True\n",
            "data/techacademy/15636.html\n",
            "True\n",
            "data/techacademy/15571.html\n",
            "True\n",
            "{'name': 'note_nkmk', 'domain': 'https://note.nkmk.me/', 'article_url': 'https://note.nkmk.me/', 'article_id': ['python-union-find', 'python-numpy-sin-con-tan', 'python-list-2d-sort']}\n",
            "data/note_nkmk/python-union-find.html\n",
            "True\n",
            "data/note_nkmk/python-numpy-sin-con-tan.html\n",
            "True\n",
            "data/note_nkmk/python-list-2d-sort.html\n",
            "True\n",
            "{'name': 'qiita', 'domain': 'https://qiita.com/', 'article_url': 'https://qiita.com/', 'article_id': ['kuroitu/items/f18acf87269f4267e8c1', 'paleo_engineer/items/fdbde62df4394ddcaf11', 'UTOG/items/c77c75a6aa61ee93fc6d']}\n",
            "data/qiita/kuroitu_items_f18acf87269f4267e8c1.html\n",
            "True\n",
            "data/qiita/paleo_engineer_items_fdbde62df4394ddcaf11.html\n",
            "True\n",
            "data/qiita/UTOG_items_c77c75a6aa61ee93fc6d.html\n",
            "True\n",
            "137020\n",
            "61371\n",
            "43725\n",
            "286137\n"
          ],
          "name": "stdout"
        }
      ]
    },
    {
      "cell_type": "code",
      "metadata": {
        "colab": {
          "base_uri": "https://localhost:8080/"
        },
        "id": "NTnV42vWW-6I",
        "outputId": "e428ad20-4149-4bdf-8cd0-c453c2403a65"
      },
      "source": [
        "# html to text\n",
        "from bs4 import BeautifulSoup\n",
        "from bs4.element import NavigableString\n",
        "import re\n",
        "\n",
        "# text_setを生成する\n",
        "# text_setは各葉ノードのテキストと木構造を表す\n",
        "def soup2textset(tag, text_set, tag_string):\n",
        "    for content in tag.contents:\n",
        "        if isinstance(content, NavigableString):\n",
        "            #content.string = content.string.replace('\\xa9', '(c)').replace('\\xa0', '')\n",
        "            text_set.add(tag_string + content.string)\n",
        "        elif str.lower(content.name) in [\"script\", \"meta\", \"style\", \"header\", \"footer\"]:\n",
        "            pass\n",
        "        else:\n",
        "            #print(content.name)\n",
        "            soup2textset(content, text_set, tag_string + str.lower(content.name))\n",
        "    return text_set\n",
        "\n",
        "# text_setに一致する葉ノードを削除する\n",
        "def removetags(tag, remove_text_set, tag_string):\n",
        "    remove_lists = []\n",
        "    for content in tag.contents:\n",
        "        if isinstance(content, NavigableString):\n",
        "            if (tag_string+content.string) in remove_text_set:\n",
        "                remove_lists.append(content)\n",
        "        elif str.lower(content.name) in [\"script\", \"meta\", \"style\", \"header\", \"footer\"]:\n",
        "            remove_lists.append(content)\n",
        "        else:\n",
        "            removetags(content, remove_text_set, tag_string + str.lower(content.name))\n",
        "    for content in remove_lists:\n",
        "        content.extract()\n",
        "\n",
        "from typing import List\n",
        "# Webページを取得して解析する\n",
        "# def html2text(htmls: list(str)) -> list(str):\n",
        "# 同じドメインのhtml(string)群を受け取って、タグを削除したstringのlistを返す\n",
        "def html2text(htmls: List[str]) -> List[str]:\n",
        "    # 文字列抽出\n",
        "    soups = [BeautifulSoup(html.replace(\"</li>\", \"\\n</li>\"), \"html.parser\") for html in htmls]\n",
        "    #bodies = [soup.find(\"body\").text for soup in soups]\n",
        "\n",
        "    bodies = [soup.find(\"body\") for soup in soups]\n",
        "\n",
        "    # 重複の削除\n",
        "    if 2 <= len(bodies):\n",
        "        # 重複要素の列挙\n",
        "        set0 = soup2textset(bodies[0], set(), \"\")\n",
        "        set1 = soup2textset(bodies[1], set(), \"\")\n",
        "        remove_set = frozenset(set0 & set1)\n",
        "        if 3 <= len(bodies):\n",
        "            set2 = soup2textset(bodies[2], set(), \"\")\n",
        "            remove_set = frozenset(remove_set | (set2 & set0)  | (set2 & set1))\n",
        "        #print(remove_set)\n",
        "        # 重複要素の削除\n",
        "        for i in range(len(bodies)):\n",
        "            removetags(bodies[i], remove_set, \"\")\n",
        "\n",
        "    #soup => textの変換\n",
        "    for i in range(len(bodies)):\n",
        "        bodies[i] = bodies[i].text\n",
        "\n",
        "    # 空行削除\n",
        "    emptyline_regex = re.compile('\\n\\\\s*\\n')\n",
        "    for i in range(len(bodies)):\n",
        "        bodies[i] = emptyline_regex.sub('\\n', bodies[i])\n",
        "\n",
        "    return bodies\n",
        "\n",
        "def test():\n",
        "    import os\n",
        "    html_names = os.listdir(\"./data/sejuku\")\n",
        "    htmls = [open(\"./data/sejuku/\" + html, 'r', encoding=\"utf-8\").read() for html in html_names]\n",
        "    bodies = html2text(htmls)\n",
        "\n",
        "    print(html_names[0])\n",
        "    print(bodies[0][:100])\n",
        "    print(\"........\")\n",
        "    print(bodies[0][-100:])\n",
        "    print(\"====================\")\n",
        "    print(html_names[1])\n",
        "    print(bodies[1][:100])\n",
        "    print(\"........\")\n",
        "    print(bodies[1][-100:])\n",
        "    print(\"====================\")\n",
        "    print(html_names[2])\n",
        "    print(bodies[2][:100])\n",
        "    print(\"........\")\n",
        "    print(bodies[2][-100:])\n",
        "    print(\"====================\")\n",
        "    # print(bodies[0].replace('\\xa9', '(c)').replace('\\xa0', ''))\n",
        "\n",
        "if __name__==\"__main__\":\n",
        "    test()\n",
        "\n"
      ],
      "execution_count": 7,
      "outputs": [
        {
          "output_type": "stream",
          "text": [
            "3766.html\n",
            "Cloud9を導入すれば、簡単にPythonの開発環境を構築できます！Python学習したい！そう思ってもプログラミングを始めるところにすらたどり着けないという方もいらっしゃるかと思います。今回はCl\n",
            "........\n",
            "選してまとめてみた！第1回「プログラミング能力検定」12/7-13、受検料無料プログラミングを独学で学習する方法と挫折をなくす3つのコツ初心者向けプログラミング言語おすすめランキング【2020年最新】\n",
            "====================\n",
            "33294.html\n",
            "\n",
            "Pythonを自分のPCにインストールしたいけどどうやったらいいの？\n",
            "Pythonのバージョンを確認するには？と疑問を持たれている方もいるのではないでしょうか？言語を本格的に学ぶためには環境を構築す\n",
            "........\n",
            "（ただし暫く何も足さない）がいいんじゃないかというメモ - min.t (ミント)未経験からフリーランスエンジニアとして仕事獲得するまでの全手順プログラミング初心者は何からすべき？習得までの7ステップ\n",
            "====================\n",
            "105909.html\n",
            "\n",
            "Pythonの動かし方がいまいちわからない……\n",
            "実行したらエラーが発生したけど、どうすればいいの？\n",
            "おすすめの実行環境があったら教えてほしいこれからPythonを学習しようとしている初心者の方にとっ\n",
            "........\n",
            "く何も足さない）がいいんじゃないかというメモ - min.t (ミント)\n",
            "【2020年度の合格者速報】名門私立小学校受験・幼稚園受験なら「AIペーパー分析」×「マンツーマン指導」のアイキューキッズ\n",
            " \n",
            "====================\n"
          ],
          "name": "stdout"
        }
      ]
    },
    {
      "cell_type": "code",
      "metadata": {
        "colab": {
          "base_uri": "https://localhost:8080/"
        },
        "id": "-_KeIeD-_YYA",
        "outputId": "52d43569-a92d-44a2-a822-eadf929639d3"
      },
      "source": [
        "from google.colab import drive\n",
        "drive.mount('/content/drive')"
      ],
      "execution_count": 8,
      "outputs": [
        {
          "output_type": "stream",
          "text": [
            "Drive already mounted at /content/drive; to attempt to forcibly remount, call drive.mount(\"/content/drive\", force_remount=True).\n"
          ],
          "name": "stdout"
        }
      ]
    },
    {
      "cell_type": "code",
      "metadata": {
        "id": "CwcY4qmckbMR",
        "colab": {
          "base_uri": "https://localhost:8080/"
        },
        "outputId": "63123410-58bc-4482-ceba-fd514e64b7c2"
      },
      "source": [
        "import MeCab\n",
        "from gensim.models.doc2vec import Doc2Vec\n",
        "import os\n",
        "\n",
        "\n",
        "class Embedder:\n",
        "    def __init__(self, model_path=\"/content/drive/MyDrive/東工大/システム設計演習/jawiki.doc2vec.dbow300d/jawiki.doc2vec.dbow300d.model\"):\n",
        "        \"\"\"\n",
        "        constructor\n",
        "\n",
        "        Args:\n",
        "            model_path (str, optional): Defaults to \"jawiki.doc2vec.dbow300d.model\".\n",
        "        \"\"\"\n",
        "        self.model = Doc2Vec.load(model_path)\n",
        "\n",
        "    def _tokenize(self, text):\n",
        "        \"\"\"\n",
        "        分かち書きを行うメソッド\n",
        "\n",
        "        Args:\n",
        "            text (str): 入力文字列\n",
        "\n",
        "        Returns:\n",
        "            list[str]: 分かち書き済み単語リスト\n",
        "        \"\"\"\n",
        "        wakati = MeCab.Tagger(\"-Owakati\")\n",
        "        wakati.parse(\"\")\n",
        "        return wakati.parse(text).strip().split()\n",
        "\n",
        "    def doc2vec(self, text):\n",
        "        \"\"\"\n",
        "        doc2vec\n",
        "\n",
        "        Args:\n",
        "            text (str): string\n",
        "\n",
        "        Returns:\n",
        "            numpy.array: embedded vector\n",
        "        \"\"\"\n",
        "        return self.model.infer_vector(self._tokenize(text))\n",
        "\n",
        "\n",
        "def main():\n",
        "    text = 'はじめに今まで自分が使ってきた中で、これは生産性が爆上げする！と思うものを厳選しました是非最後までご覧ください'\n",
        "    embedder = Embedder()\n",
        "    print(embedder.doc2vec(text))\n",
        "\n",
        "\n",
        "if __name__ == \"__main__\":\n",
        "  # データ一覧\n",
        "  html_names = os.listdir(\"./data/sejuku\")\n",
        "  htmls = [open(\"./data/sejuku/\" + html, 'r', encoding=\"utf-8\").read() for html in html_names]\n",
        "  bodies = html2text(htmls)\n",
        "  embedder = Embedder()\n",
        "  for body in bodies:\n",
        "    print(embedder.doc2vec(body))"
      ],
      "execution_count": 9,
      "outputs": [
        {
          "output_type": "stream",
          "text": [
            "[-0.04644709 -0.08066528  0.00238143  0.18936065  0.05107804 -0.1655564\n",
            "  0.07017115 -0.03674507 -0.25644907 -0.05919756  0.19240296 -0.29809216\n",
            "  0.05338582 -0.1413264   0.52438015  0.09273072  0.29368812  0.00487726\n",
            "  0.18998733 -0.0972043  -0.00554163  0.11979109 -0.19052498  0.01486254\n",
            " -0.1786719   0.09614064 -0.08725657  0.00515512 -0.09155009  0.14219287\n",
            " -0.09460672  0.08398268  0.02884137  0.08827341  0.08961735 -0.21750721\n",
            " -0.3219371  -0.13661276  0.14393029 -0.17469698  0.02844832  0.1189246\n",
            " -0.07063111 -0.16772404  0.05942083  0.24469067  0.14092228 -0.20148261\n",
            "  0.17495942  0.13248889  0.18743983  0.01487395 -0.0741148  -0.31480026\n",
            "  0.10368635 -0.14284661 -0.39721352 -0.0464507   0.2101486  -0.05343342\n",
            "  0.5460407   0.16322234 -0.33409584  0.07207932 -0.13186441 -0.24903716\n",
            " -0.02862005 -0.08145452  0.15269168  0.11667015  0.00494997 -0.13526516\n",
            "  0.15241852  0.14982983 -0.04387985  0.12656371 -0.02558896 -0.12555744\n",
            "  0.37873355 -0.02303609  0.226243   -0.17561366  0.14451204  0.05674275\n",
            " -0.10612543  0.15667781 -0.06302088  0.21282908 -0.1517797  -0.04575298\n",
            " -0.01177915 -0.25738567 -0.16570976 -0.1520217   0.31840718  0.16590229\n",
            " -0.21214445 -0.03306338  0.163885    0.12742965 -0.0656853  -0.0709099\n",
            "  0.03331643  0.26205164  0.13987473 -0.10261739 -0.16648035  0.00437537\n",
            " -0.00219968 -0.04639438  0.00855849  0.14384046  0.11758234 -0.07556212\n",
            "  0.10617341 -0.26672184 -0.077347   -0.00201549  0.01672975 -0.03844588\n",
            " -0.15776125 -0.05164848  0.22786158 -0.16328435  0.1858736  -0.07830476\n",
            "  0.11267825 -0.01169088  0.03447517 -0.15654618  0.3938111   0.04668814\n",
            "  0.04802068 -0.10293     0.04801758 -0.03153497 -0.04937074  0.09640744\n",
            " -0.04326205  0.06034983  0.03117529 -0.28190544 -0.00793225 -0.19172892\n",
            "  0.12583469 -0.17275609 -0.03593522  0.07012367  0.20097512  0.20152178\n",
            " -0.06961543 -0.05545908 -0.05022735 -0.03739604 -0.04260334 -0.3128574\n",
            " -0.10990752 -0.03535062  0.08612255  0.32856974 -0.17185645  0.05094855\n",
            "  0.1411717  -0.11960732 -0.20704529  0.07583328  0.12829277  0.26121867\n",
            " -0.01118639 -0.26480117  0.37004486 -0.10286926 -0.15957089  0.130055\n",
            "  0.27753738 -0.03660726  0.12304238  0.12842485 -0.0436652   0.1192103\n",
            " -0.08969988 -0.15810084  0.22087876  0.14378673  0.06518559  0.40931445\n",
            "  0.15109216 -0.08625385 -0.08072763  0.05011834  0.03522291  0.04158652\n",
            "  0.15422012 -0.20162989 -0.3621554   0.11503152  0.09996375  0.10435516\n",
            " -0.13196394  0.0856815   0.03738978 -0.31960875  0.1284004   0.06253144\n",
            " -0.03204456  0.14188774 -0.2026434   0.02372214  0.24964117 -0.24128506\n",
            " -0.07481619  0.22044602  0.26426923 -0.34091517  0.02659151 -0.15640213\n",
            " -0.02335298 -0.00089114  0.08235355  0.06537214  0.24168977  0.10860973\n",
            " -0.11864787  0.02983629 -0.06968259  0.03698401 -0.1447716   0.36345255\n",
            " -0.16677257  0.24443863  0.04387562 -0.2303298  -0.3019933   0.1254935\n",
            " -0.04569054  0.2913199   0.08899779  0.21634525 -0.082859   -0.08411341\n",
            "  0.04551619  0.14138319  0.00323886  0.20758095  0.06212984 -0.14093406\n",
            " -0.05373007 -0.06815384  0.08167352 -0.12830475  0.00754249 -0.17468305\n",
            " -0.01128158 -0.27622077  0.24464102 -0.09040196 -0.21082674 -0.254618\n",
            "  0.05463354 -0.35406744 -0.05988379  0.11547083 -0.10994706  0.08454418\n",
            "  0.00871566 -0.19457142 -0.11576062  0.02290906  0.03417616  0.01953181\n",
            " -0.02031892 -0.25302827  0.13755223  0.08664352  0.02833495 -0.26112112\n",
            "  0.24868885 -0.04086667  0.2648265  -0.10228488 -0.11330467 -0.07749954\n",
            " -0.04621367 -0.41273463 -0.11446078  0.09033614  0.04544664  0.2812064\n",
            " -0.02506184  0.31473723 -0.18424158 -0.04146906  0.1816688   0.1183615\n",
            "  0.10156414  0.19131029  0.23186174  0.02803841 -0.43025318 -0.37559348]\n"
          ],
          "name": "stdout"
        }
      ]
    }
  ]
}